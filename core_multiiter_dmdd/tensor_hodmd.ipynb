{
 "cells": [
  {
   "cell_type": "markdown",
   "metadata": {},
   "source": [
    "# Tensor HODMD Example with Binned Temperature Data\n",
    "\n",
    "This notebook demonstrates the tensor Higher-Order Dynamic Mode Decomposition (HODMD) on the binned temperature data."
   ]
  },
  {
   "cell_type": "code",
   "execution_count": null,
   "metadata": {},
   "outputs": [],
   "source": "import numpy as np\nimport matplotlib.pyplot as plt\nfrom multi_iter_hodmd import MultiIterativeHODMD"
  },
  {
   "cell_type": "markdown",
   "metadata": {},
   "source": [
    "## Load the Data\n",
    "\n",
    "Load the binned temperature data from the numpy file."
   ]
  },
  {
   "cell_type": "code",
   "execution_count": null,
   "metadata": {},
   "outputs": [],
   "source": [
    "# Load the binned temperature data\n",
    "data = np.load('binned_temperature_cs.npy')\n",
    "print(f\"Data shape: {data.shape}\")\n",
    "print(f\"Data type: {data.dtype}\")\n",
    "print(f\"Data range: [{data.min():.4f}, {data.max():.4f}]\")"
   ]
  },
  {
   "cell_type": "markdown",
   "metadata": {},
   "source": [
    "## Visualize the Data\n",
    "\n",
    "Let's examine the structure of our tensor data."
   ]
  },
  {
   "cell_type": "code",
   "execution_count": null,
   "metadata": {},
   "outputs": [],
   "source": [
    "# Visualize a few time slices of the data\n",
    "if len(data.shape) == 3:\n",
    "    # Assume shape is (time, space1, space2)\n",
    "    fig, axes = plt.subplots(2, 3, figsize=(15, 10))\n",
    "    axes = axes.flatten()\n",
    "    \n",
    "    time_indices = np.linspace(0, data.shape[0]-1, 6, dtype=int)\n",
    "    \n",
    "    for i, t_idx in enumerate(time_indices):\n",
    "        im = axes[i].imshow(data[t_idx], cmap='viridis', aspect='auto')\n",
    "        axes[i].set_title(f'Time index {t_idx}')\n",
    "        axes[i].set_xlabel('Space dimension 2')\n",
    "        axes[i].set_ylabel('Space dimension 1')\n",
    "        plt.colorbar(im, ax=axes[i])\n",
    "    \n",
    "    plt.tight_layout()\n",
    "    plt.show()\n",
    "elif len(data.shape) == 4:\n",
    "    # Assume shape is (time, space1, space2, space3)\n",
    "    fig, axes = plt.subplots(2, 3, figsize=(15, 10))\n",
    "    axes = axes.flatten()\n",
    "    \n",
    "    time_indices = np.linspace(0, data.shape[0]-1, 6, dtype=int)\n",
    "    mid_slice = data.shape[3] // 2  # Middle slice in the 3rd spatial dimension\n",
    "    \n",
    "    for i, t_idx in enumerate(time_indices):\n",
    "        im = axes[i].imshow(data[t_idx, :, :, mid_slice], cmap='viridis', aspect='auto')\n",
    "        axes[i].set_title(f'Time {t_idx}, z-slice {mid_slice}')\n",
    "        axes[i].set_xlabel('Space dimension 2')\n",
    "        axes[i].set_ylabel('Space dimension 1')\n",
    "        plt.colorbar(im, ax=axes[i])\n",
    "    \n",
    "    plt.tight_layout()\n",
    "    plt.show()"
   ]
  },
  {
   "cell_type": "markdown",
   "metadata": {},
   "source": [
    "## Initialize Tensor HODMD\n",
    "\n",
    "Set up the Tensor HODMD parameters and initialize the decomposition."
   ]
  },
  {
   "cell_type": "code",
   "execution_count": null,
   "metadata": {},
   "outputs": [],
   "source": [
    "# Set parameters for Tensor HODMD\n",
    "d = 5  # Number of delays\n",
    "rank = [10, 10, 10]  # Tucker decomposition ranks (adjust based on your data dimensions)\n",
    "dt = 1.0  # Time step\n",
    "\n",
    "# Adjust rank based on actual data dimensions\n",
    "if len(data.shape) == 3:\n",
    "    rank = [min(10, data.shape[1]), min(10, data.shape[2])]  # For 2D spatial data\n",
    "elif len(data.shape) == 4:\n",
    "    rank = [min(10, data.shape[1]), min(10, data.shape[2]), min(10, data.shape[3])]  # For 3D spatial data\n",
    "\n",
    "print(f\"Using delay d = {d}\")\n",
    "print(f\"Using Tucker ranks: {rank}\")\n",
    "print(f\"Time step dt = {dt}\")"
   ]
  },
  {
   "cell_type": "code",
   "execution_count": null,
   "metadata": {},
   "outputs": [],
   "source": "# Initialize Multi-Iterative HODMD\ntensor_hodmd = MultiIterativeHODMD(d=d, rank=rank, dt=dt)\nprint(\"Multi-Iterative HODMD initialized successfully\")"
  },
  {
   "cell_type": "markdown",
   "metadata": {},
   "source": [
    "## Fit the Model\n",
    "\n",
    "Fit the Tensor HODMD model to our data."
   ]
  },
  {
   "cell_type": "code",
   "execution_count": null,
   "metadata": {},
   "outputs": [],
   "source": [
    "# Fit the model\n",
    "print(\"Fitting Tensor HODMD model...\")\n",
    "tensor_hodmd.fit(data)\n",
    "print(\"Model fitted successfully!\")"
   ]
  },
  {
   "cell_type": "markdown",
   "metadata": {},
   "source": [
    "## Analyze Results\n",
    "\n",
    "Examine the eigenvalues and modes from the decomposition."
   ]
  },
  {
   "cell_type": "code",
   "execution_count": null,
   "metadata": {},
   "outputs": [],
   "source": [
    "# Get eigenvalues and analyze them\n",
    "eigenvalues = tensor_hodmd.eigenvalues\n",
    "print(f\"Number of eigenvalues: {len(eigenvalues)}\")\n",
    "\n",
    "# Plot eigenvalues in the complex plane\n",
    "plt.figure(figsize=(10, 6))\n",
    "\n",
    "plt.subplot(1, 2, 1)\n",
    "plt.scatter(eigenvalues.real, eigenvalues.imag, alpha=0.7)\n",
    "plt.xlabel('Real part')\n",
    "plt.ylabel('Imaginary part')\n",
    "plt.title('Eigenvalues in Complex Plane')\n",
    "plt.grid(True, alpha=0.3)\n",
    "\n",
    "# Plot magnitude and phase\n",
    "plt.subplot(1, 2, 2)\n",
    "magnitudes = np.abs(eigenvalues)\n",
    "plt.hist(magnitudes, bins=20, alpha=0.7, edgecolor='black')\n",
    "plt.xlabel('Eigenvalue Magnitude')\n",
    "plt.ylabel('Count')\n",
    "plt.title('Distribution of Eigenvalue Magnitudes')\n",
    "plt.grid(True, alpha=0.3)\n",
    "\n",
    "plt.tight_layout()\n",
    "plt.show()\n",
    "\n",
    "print(f\"Eigenvalue magnitudes range: [{magnitudes.min():.4f}, {magnitudes.max():.4f}]\")"
   ]
  },
  {
   "cell_type": "markdown",
   "metadata": {},
   "source": [
    "## Compute Frequencies\n",
    "\n",
    "Extract the frequencies from the eigenvalues."
   ]
  },
  {
   "cell_type": "code",
   "execution_count": null,
   "metadata": {},
   "outputs": [],
   "source": [
    "# Compute frequencies\n",
    "frequencies = tensor_hodmd.frequency\n",
    "\n",
    "# Plot frequency spectrum\n",
    "plt.figure(figsize=(12, 4))\n",
    "\n",
    "plt.subplot(1, 2, 1)\n",
    "plt.stem(np.arange(len(frequencies)), frequencies.real, basefmt=\" \")\n",
    "plt.xlabel('Mode Index')\n",
    "plt.ylabel('Real Frequency')\n",
    "plt.title('Real Part of Frequencies')\n",
    "plt.grid(True, alpha=0.3)\n",
    "\n",
    "plt.subplot(1, 2, 2)\n",
    "plt.stem(np.arange(len(frequencies)), frequencies.imag, basefmt=\" \")\n",
    "plt.xlabel('Mode Index')\n",
    "plt.ylabel('Imaginary Frequency')\n",
    "plt.title('Imaginary Part of Frequencies')\n",
    "plt.grid(True, alpha=0.3)\n",
    "\n",
    "plt.tight_layout()\n",
    "plt.show()\n",
    "\n",
    "print(f\"Number of frequencies: {len(frequencies)}\")\n",
    "print(f\"Frequency range (real): [{frequencies.real.min():.4f}, {frequencies.real.max():.4f}]\")\n",
    "print(f\"Frequency range (imag): [{frequencies.imag.min():.4f}, {frequencies.imag.max():.4f}]\")"
   ]
  },
  {
   "cell_type": "markdown",
   "metadata": {},
   "source": [
    "## Reconstruct and Predict\n",
    "\n",
    "Use the fitted model to reconstruct the original data and make predictions."
   ]
  },
  {
   "cell_type": "code",
   "execution_count": null,
   "metadata": {},
   "outputs": [],
   "source": [
    "# Reconstruct the original data\n",
    "print(\"Reconstructing data...\")\n",
    "reconstructed = tensor_hodmd.reconstructed_data\n",
    "print(f\"Reconstruction shape: {reconstructed.shape}\")\n",
    "\n",
    "# Compute reconstruction error\n",
    "# Note: reconstructed data might have different time dimension due to delay embedding\n",
    "min_time = min(data.shape[0], reconstructed.shape[0])\n",
    "error = np.linalg.norm(data[:min_time] - reconstructed[:min_time]) / np.linalg.norm(data[:min_time])\n",
    "print(f\"Relative reconstruction error: {error:.6f}\")"
   ]
  },
  {
   "cell_type": "code",
   "execution_count": null,
   "metadata": {},
   "outputs": [],
   "source": [
    "# Predict future time steps\n",
    "n_predict = 10\n",
    "print(f\"Predicting {n_predict} future time steps...\")\n",
    "\n",
    "# Create time array for prediction\n",
    "future_times = np.arange(data.shape[0], data.shape[0] + n_predict) * dt\n",
    "predicted = tensor_hodmd.predict(future_times)\n",
    "print(f\"Prediction shape: {predicted.shape}\")"
   ]
  },
  {
   "cell_type": "markdown",
   "metadata": {},
   "source": [
    "## Visualize Results\n",
    "\n",
    "Compare original, reconstructed, and predicted data."
   ]
  },
  {
   "cell_type": "code",
   "execution_count": null,
   "metadata": {},
   "outputs": [],
   "source": [
    "# Visualize comparison for 2D or 3D data\n",
    "if len(data.shape) == 3:\n",
    "    # For 3D tensors (time, space1, space2)\n",
    "    fig, axes = plt.subplots(3, 3, figsize=(15, 12))\n",
    "    \n",
    "    time_indices = [0, data.shape[0]//2, min_time-1]\n",
    "    titles = ['Early Time', 'Middle Time', 'Late Time']\n",
    "    \n",
    "    for i, (t_idx, title) in enumerate(zip(time_indices, titles)):\n",
    "        # Original\n",
    "        im1 = axes[0, i].imshow(data[t_idx], cmap='viridis', aspect='auto')\n",
    "        axes[0, i].set_title(f'Original - {title}')\n",
    "        plt.colorbar(im1, ax=axes[0, i])\n",
    "        \n",
    "        # Reconstructed\n",
    "        im2 = axes[1, i].imshow(reconstructed[t_idx], cmap='viridis', aspect='auto')\n",
    "        axes[1, i].set_title(f'Reconstructed - {title}')\n",
    "        plt.colorbar(im2, ax=axes[1, i])\n",
    "        \n",
    "        # Error\n",
    "        error_slice = data[t_idx] - reconstructed[t_idx]\n",
    "        im3 = axes[2, i].imshow(error_slice, cmap='RdBu', aspect='auto')\n",
    "        axes[2, i].set_title(f'Error - {title}')\n",
    "        plt.colorbar(im3, ax=axes[2, i])\n",
    "    \n",
    "    plt.tight_layout()\n",
    "    plt.show()\n",
    "\n",
    "elif len(data.shape) == 4:\n",
    "    # For 4D tensors (time, space1, space2, space3) - show middle z-slice\n",
    "    fig, axes = plt.subplots(3, 3, figsize=(15, 12))\n",
    "    \n",
    "    time_indices = [0, data.shape[0]//2, min_time-1]\n",
    "    titles = ['Early Time', 'Middle Time', 'Late Time']\n",
    "    mid_z = data.shape[3] // 2\n",
    "    \n",
    "    for i, (t_idx, title) in enumerate(zip(time_indices, titles)):\n",
    "        # Original\n",
    "        im1 = axes[0, i].imshow(data[t_idx, :, :, mid_z], cmap='viridis', aspect='auto')\n",
    "        axes[0, i].set_title(f'Original - {title}')\n",
    "        plt.colorbar(im1, ax=axes[0, i])\n",
    "        \n",
    "        # Reconstructed\n",
    "        im2 = axes[1, i].imshow(reconstructed[t_idx, :, :, mid_z], cmap='viridis', aspect='auto')\n",
    "        axes[1, i].set_title(f'Reconstructed - {title}')\n",
    "        plt.colorbar(im2, ax=axes[1, i])\n",
    "        \n",
    "        # Error\n",
    "        error_slice = data[t_idx, :, :, mid_z] - reconstructed[t_idx, :, :, mid_z]\n",
    "        im3 = axes[2, i].imshow(error_slice, cmap='RdBu', aspect='auto')\n",
    "        axes[2, i].set_title(f'Error - {title}')\n",
    "        plt.colorbar(im3, ax=axes[2, i])\n",
    "    \n",
    "    plt.tight_layout()\n",
    "    plt.show()"
   ]
  },
  {
   "cell_type": "markdown",
   "metadata": {},
   "source": [
    "## Visualize Predicted Data\n",
    "\n",
    "Show the predicted future time steps."
   ]
  },
  {
   "cell_type": "code",
   "execution_count": null,
   "metadata": {},
   "outputs": [],
   "source": [
    "# Visualize predictions\n",
    "if predicted is not None:\n",
    "    if len(predicted.shape) == 3:\n",
    "        fig, axes = plt.subplots(2, 3, figsize=(15, 10))\n",
    "        axes = axes.flatten()\n",
    "        \n",
    "        pred_indices = np.linspace(0, predicted.shape[0]-1, 6, dtype=int)\n",
    "        \n",
    "        for i, p_idx in enumerate(pred_indices):\n",
    "            im = axes[i].imshow(predicted[p_idx], cmap='viridis', aspect='auto')\n",
    "            axes[i].set_title(f'Predicted step {p_idx+1}')\n",
    "            axes[i].set_xlabel('Space dimension 2')\n",
    "            axes[i].set_ylabel('Space dimension 1')\n",
    "            plt.colorbar(im, ax=axes[i])\n",
    "        \n",
    "        plt.suptitle('Predicted Future Time Steps')\n",
    "        plt.tight_layout()\n",
    "        plt.show()\n",
    "    \n",
    "    elif len(predicted.shape) == 4:\n",
    "        fig, axes = plt.subplots(2, 3, figsize=(15, 10))\n",
    "        axes = axes.flatten()\n",
    "        \n",
    "        pred_indices = np.linspace(0, predicted.shape[0]-1, 6, dtype=int)\n",
    "        mid_z = predicted.shape[3] // 2\n",
    "        \n",
    "        for i, p_idx in enumerate(pred_indices):\n",
    "            im = axes[i].imshow(predicted[p_idx, :, :, mid_z], cmap='viridis', aspect='auto')\n",
    "            axes[i].set_title(f'Predicted step {p_idx+1} (z={mid_z})')\n",
    "            axes[i].set_xlabel('Space dimension 2')\n",
    "            axes[i].set_ylabel('Space dimension 1')\n",
    "            plt.colorbar(im, ax=axes[i])\n",
    "        \n",
    "        plt.suptitle('Predicted Future Time Steps')\n",
    "        plt.tight_layout()\n",
    "        plt.show()"
   ]
  },
  {
   "cell_type": "markdown",
   "metadata": {},
   "source": [
    "## Summary\n",
    "\n",
    "Display a summary of the analysis results."
   ]
  },
  {
   "cell_type": "code",
   "execution_count": null,
   "metadata": {},
   "outputs": [],
   "source": [
    "print(\"=== Tensor HODMD Analysis Summary ===\")\n",
    "print(f\"Data shape: {data.shape}\")\n",
    "print(f\"Number of delays: {d}\")\n",
    "print(f\"Tucker decomposition ranks: {rank}\")\n",
    "print(f\"Number of modes: {len(eigenvalues)}\")\n",
    "print(f\"Reconstruction error: {error:.6f}\")\n",
    "print(f\"Predicted {n_predict} future time steps\")\n",
    "\n",
    "# Find most significant modes (largest magnitude eigenvalues)\n",
    "significant_modes = np.argsort(np.abs(eigenvalues))[-5:]\n",
    "print(\"\\nTop 5 most significant modes:\")\n",
    "for i, mode_idx in enumerate(reversed(significant_modes)):\n",
    "    eigenval = eigenvalues[mode_idx]\n",
    "    freq = frequencies[mode_idx]\n",
    "    print(f\"  Mode {mode_idx}: λ = {eigenval:.4f}, f = {freq:.4f}, |λ| = {np.abs(eigenval):.4f}\")"
   ]
  }
 ],
 "metadata": {
  "kernelspec": {
   "display_name": "Python 3",
   "language": "python",
   "name": "python3"
  },
  "language_info": {
   "codemirror_mode": {
    "name": "ipython",
    "version": 3
   },
   "file_extension": ".py",
   "mimetype": "text/x-python",
   "name": "python",
   "nbconvert_exporter": "python",
   "pygments_lexer": "ipython3",
   "version": "3.8.5"
  }
 },
 "nbformat": 4,
 "nbformat_minor": 4
}